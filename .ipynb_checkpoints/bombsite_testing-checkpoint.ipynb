{
 "cells": [
  {
   "cell_type": "code",
   "execution_count": 1,
   "metadata": {},
   "outputs": [],
   "source": [
    "import numpy as np\n",
    "import queries\n",
    "import player_info\n",
    "import situation_detection\n",
    "import matplotlib.pyplot as plt"
   ]
  },
  {
   "cell_type": "code",
   "execution_count": 2,
   "metadata": {},
   "outputs": [],
   "source": [
    "test_bombsite = situation_detection.bombsite_situation()"
   ]
  },
  {
   "cell_type": "code",
   "execution_count": 3,
   "metadata": {},
   "outputs": [],
   "source": [
    "# setting old to true means we only look at shooting frames that has IsInBombZone true\n",
    "test_bombsite.find_bombsite_frames(old=True)"
   ]
  },
  {
   "cell_type": "code",
   "execution_count": 4,
   "metadata": {},
   "outputs": [
    {
     "data": {
      "text/html": [
       "<div>\n",
       "<style scoped>\n",
       "    .dataframe tbody tr th:only-of-type {\n",
       "        vertical-align: middle;\n",
       "    }\n",
       "\n",
       "    .dataframe tbody tr th {\n",
       "        vertical-align: top;\n",
       "    }\n",
       "\n",
       "    .dataframe thead th {\n",
       "        text-align: right;\n",
       "    }\n",
       "</style>\n",
       "<table border=\"1\" class=\"dataframe\">\n",
       "  <thead>\n",
       "    <tr style=\"text-align: right;\">\n",
       "      <th></th>\n",
       "      <th>Frame</th>\n",
       "      <th>RoundNumber</th>\n",
       "      <th>CurrentTime</th>\n",
       "      <th>Position_X</th>\n",
       "      <th>Position_Y</th>\n",
       "      <th>Position_Z</th>\n",
       "      <th>Shooter</th>\n",
       "      <th>Weapon</th>\n",
       "    </tr>\n",
       "  </thead>\n",
       "  <tbody>\n",
       "    <tr>\n",
       "      <th>0</th>\n",
       "      <td>129626</td>\n",
       "      <td>6</td>\n",
       "      <td>1015.3750</td>\n",
       "      <td>2062.91820</td>\n",
       "      <td>518.10110</td>\n",
       "      <td>160.03125</td>\n",
       "      <td>shox</td>\n",
       "      <td>505</td>\n",
       "    </tr>\n",
       "    <tr>\n",
       "      <th>1</th>\n",
       "      <td>203842</td>\n",
       "      <td>10</td>\n",
       "      <td>1596.3672</td>\n",
       "      <td>436.59595</td>\n",
       "      <td>2939.56100</td>\n",
       "      <td>160.03125</td>\n",
       "      <td>misutaaa</td>\n",
       "      <td>303</td>\n",
       "    </tr>\n",
       "    <tr>\n",
       "      <th>2</th>\n",
       "      <td>203855</td>\n",
       "      <td>10</td>\n",
       "      <td>1596.4688</td>\n",
       "      <td>432.65622</td>\n",
       "      <td>2941.13750</td>\n",
       "      <td>160.03125</td>\n",
       "      <td>misutaaa</td>\n",
       "      <td>303</td>\n",
       "    </tr>\n",
       "    <tr>\n",
       "      <th>3</th>\n",
       "      <td>203868</td>\n",
       "      <td>10</td>\n",
       "      <td>1596.5703</td>\n",
       "      <td>433.21216</td>\n",
       "      <td>2940.42360</td>\n",
       "      <td>160.03125</td>\n",
       "      <td>misutaaa</td>\n",
       "      <td>303</td>\n",
       "    </tr>\n",
       "    <tr>\n",
       "      <th>4</th>\n",
       "      <td>203881</td>\n",
       "      <td>10</td>\n",
       "      <td>1596.6719</td>\n",
       "      <td>434.15796</td>\n",
       "      <td>2939.39060</td>\n",
       "      <td>160.03125</td>\n",
       "      <td>misutaaa</td>\n",
       "      <td>303</td>\n",
       "    </tr>\n",
       "    <tr>\n",
       "      <th>5</th>\n",
       "      <td>203894</td>\n",
       "      <td>10</td>\n",
       "      <td>1596.7734</td>\n",
       "      <td>435.46160</td>\n",
       "      <td>2937.96560</td>\n",
       "      <td>160.03125</td>\n",
       "      <td>misutaaa</td>\n",
       "      <td>303</td>\n",
       "    </tr>\n",
       "    <tr>\n",
       "      <th>6</th>\n",
       "      <td>203907</td>\n",
       "      <td>10</td>\n",
       "      <td>1596.8750</td>\n",
       "      <td>437.11954</td>\n",
       "      <td>2936.14430</td>\n",
       "      <td>160.03125</td>\n",
       "      <td>misutaaa</td>\n",
       "      <td>303</td>\n",
       "    </tr>\n",
       "    <tr>\n",
       "      <th>7</th>\n",
       "      <td>203919</td>\n",
       "      <td>10</td>\n",
       "      <td>1596.9688</td>\n",
       "      <td>438.95710</td>\n",
       "      <td>2934.10500</td>\n",
       "      <td>160.03125</td>\n",
       "      <td>misutaaa</td>\n",
       "      <td>303</td>\n",
       "    </tr>\n",
       "    <tr>\n",
       "      <th>8</th>\n",
       "      <td>203932</td>\n",
       "      <td>10</td>\n",
       "      <td>1597.0703</td>\n",
       "      <td>441.27365</td>\n",
       "      <td>2931.50240</td>\n",
       "      <td>160.03125</td>\n",
       "      <td>misutaaa</td>\n",
       "      <td>303</td>\n",
       "    </tr>\n",
       "    <tr>\n",
       "      <th>9</th>\n",
       "      <td>257492</td>\n",
       "      <td>13</td>\n",
       "      <td>2016.5391</td>\n",
       "      <td>1821.03120</td>\n",
       "      <td>276.03125</td>\n",
       "      <td>160.03125</td>\n",
       "      <td>shox</td>\n",
       "      <td>505</td>\n",
       "    </tr>\n",
       "    <tr>\n",
       "      <th>10</th>\n",
       "      <td>257673</td>\n",
       "      <td>13</td>\n",
       "      <td>2017.9531</td>\n",
       "      <td>1821.03120</td>\n",
       "      <td>276.03125</td>\n",
       "      <td>160.03125</td>\n",
       "      <td>shox</td>\n",
       "      <td>504</td>\n",
       "    </tr>\n",
       "    <tr>\n",
       "      <th>11</th>\n",
       "      <td>271418</td>\n",
       "      <td>14</td>\n",
       "      <td>2125.6640</td>\n",
       "      <td>1897.93850</td>\n",
       "      <td>611.64070</td>\n",
       "      <td>160.03125</td>\n",
       "      <td>shox</td>\n",
       "      <td>504</td>\n",
       "    </tr>\n",
       "    <tr>\n",
       "      <th>12</th>\n",
       "      <td>287672</td>\n",
       "      <td>15</td>\n",
       "      <td>2252.9922</td>\n",
       "      <td>2058.94140</td>\n",
       "      <td>338.10120</td>\n",
       "      <td>160.03125</td>\n",
       "      <td>ZywOo</td>\n",
       "      <td>502</td>\n",
       "    </tr>\n",
       "    <tr>\n",
       "      <th>13</th>\n",
       "      <td>355511</td>\n",
       "      <td>17</td>\n",
       "      <td>2783.9062</td>\n",
       "      <td>2006.10240</td>\n",
       "      <td>524.35040</td>\n",
       "      <td>160.03125</td>\n",
       "      <td>s1mple</td>\n",
       "      <td>303</td>\n",
       "    </tr>\n",
       "    <tr>\n",
       "      <th>14</th>\n",
       "      <td>355524</td>\n",
       "      <td>17</td>\n",
       "      <td>2784.0078</td>\n",
       "      <td>1986.49890</td>\n",
       "      <td>525.72974</td>\n",
       "      <td>160.03125</td>\n",
       "      <td>s1mple</td>\n",
       "      <td>303</td>\n",
       "    </tr>\n",
       "  </tbody>\n",
       "</table>\n",
       "</div>"
      ],
      "text/plain": [
       "     Frame  RoundNumber  CurrentTime  Position_X  Position_Y  Position_Z  \\\n",
       "0   129626            6    1015.3750  2062.91820   518.10110   160.03125   \n",
       "1   203842           10    1596.3672   436.59595  2939.56100   160.03125   \n",
       "2   203855           10    1596.4688   432.65622  2941.13750   160.03125   \n",
       "3   203868           10    1596.5703   433.21216  2940.42360   160.03125   \n",
       "4   203881           10    1596.6719   434.15796  2939.39060   160.03125   \n",
       "5   203894           10    1596.7734   435.46160  2937.96560   160.03125   \n",
       "6   203907           10    1596.8750   437.11954  2936.14430   160.03125   \n",
       "7   203919           10    1596.9688   438.95710  2934.10500   160.03125   \n",
       "8   203932           10    1597.0703   441.27365  2931.50240   160.03125   \n",
       "9   257492           13    2016.5391  1821.03120   276.03125   160.03125   \n",
       "10  257673           13    2017.9531  1821.03120   276.03125   160.03125   \n",
       "11  271418           14    2125.6640  1897.93850   611.64070   160.03125   \n",
       "12  287672           15    2252.9922  2058.94140   338.10120   160.03125   \n",
       "13  355511           17    2783.9062  2006.10240   524.35040   160.03125   \n",
       "14  355524           17    2784.0078  1986.49890   525.72974   160.03125   \n",
       "\n",
       "     Shooter  Weapon  \n",
       "0      shox      505  \n",
       "1   misutaaa     303  \n",
       "2   misutaaa     303  \n",
       "3   misutaaa     303  \n",
       "4   misutaaa     303  \n",
       "5   misutaaa     303  \n",
       "6   misutaaa     303  \n",
       "7   misutaaa     303  \n",
       "8   misutaaa     303  \n",
       "9      shox      505  \n",
       "10     shox      504  \n",
       "11     shox      504  \n",
       "12     ZywOo     502  \n",
       "13    s1mple     303  \n",
       "14    s1mple     303  "
      ]
     },
     "execution_count": 4,
     "metadata": {},
     "output_type": "execute_result"
    }
   ],
   "source": [
    "test_bombsite.bomb_frames"
   ]
  },
  {
   "cell_type": "code",
   "execution_count": 5,
   "metadata": {},
   "outputs": [],
   "source": [
    "site1_x = (test_bombsite.bombsites[0][0][0],\n",
    "           test_bombsite.bombsites[0][0][0],\n",
    "           test_bombsite.bombsites[0][0][1],\n",
    "           test_bombsite.bombsites[0][0][1],\n",
    "           test_bombsite.bombsites[0][0][0])\n",
    "\n",
    "site1_y = (test_bombsite.bombsites[0][1][0],\n",
    "           test_bombsite.bombsites[0][1][1],\n",
    "           test_bombsite.bombsites[0][1][1],\n",
    "           test_bombsite.bombsites[0][1][0],\n",
    "           test_bombsite.bombsites[0][1][0])\n",
    "\n",
    "site2_x = (test_bombsite.bombsites[1][0][0],\n",
    "           test_bombsite.bombsites[1][0][0],\n",
    "           test_bombsite.bombsites[1][0][1],\n",
    "           test_bombsite.bombsites[1][0][1],\n",
    "           test_bombsite.bombsites[1][0][0])\n",
    "\n",
    "site2_y = (test_bombsite.bombsites[1][1][0],\n",
    "           test_bombsite.bombsites[1][1][1],\n",
    "           test_bombsite.bombsites[1][1][1],\n",
    "           test_bombsite.bombsites[1][1][0],\n",
    "           test_bombsite.bombsites[1][1][0])\n",
    "\n",
    "frame_width = 100\n",
    "\n",
    "site1_min_X = test_bombsite.bombsites[0][0][0] - frame_width\n",
    "site1_max_X = test_bombsite.bombsites[0][0][1] + frame_width\n",
    "site1_min_Y = test_bombsite.bombsites[0][1][0] - frame_width\n",
    "site1_max_Y = test_bombsite.bombsites[0][1][1] + frame_width\n",
    "\n",
    "site2_min_X = test_bombsite.bombsites[1][0][0] - frame_width\n",
    "site2_max_X = test_bombsite.bombsites[1][0][1] + frame_width\n",
    "site2_min_Y = test_bombsite.bombsites[1][1][0] - frame_width\n",
    "site2_max_Y = test_bombsite.bombsites[1][1][1] + frame_width\n",
    "\n",
    "box1_x = (site1_min_X, site1_min_X, site1_max_X, site1_max_X, site1_min_X)\n",
    "box1_y = (site1_min_Y, site1_max_Y, site1_max_Y, site1_min_Y, site1_min_Y)\n",
    "box2_x = (site2_min_X, site2_min_X, site2_max_X, site2_max_X, site2_min_X)\n",
    "box2_y = (site2_min_Y, site2_max_Y, site2_max_Y, site2_min_Y, site2_min_Y)"
   ]
  },
  {
   "cell_type": "code",
   "execution_count": 6,
   "metadata": {},
   "outputs": [
    {
     "data": {
      "text/plain": [
       "<matplotlib.collections.PathCollection at 0xbc37e88>"
      ]
     },
     "execution_count": 6,
     "metadata": {},
     "output_type": "execute_result"
    },
    {
     "data": {
      "image/png": "[encoded data removed]",
      "text/plain": [
       "<Figure size 521.734x722.295 with 1 Axes>"
      ]
     },
     "metadata": {
      "needs_background": "light"
     },
     "output_type": "display_data"
    }
   ],
   "source": [
    "plt.figure(figsize=(max(test_bombsite.bombsite_xyz['Position_X'] / 300),\n",
    "                    max(test_bombsite.bombsite_xyz['Position_Y'] / 300)))\n",
    "\n",
    "# approximate box of bombsite\n",
    "plt.plot(site1_x, site1_y, color='orange')\n",
    "plt.plot(site2_x, site2_y, color='orange')\n",
    "\n",
    "# approximate box considered to be shooting around bombsite\n",
    "plt.plot(box1_x, box1_y, color='black')\n",
    "plt.plot(box2_x, box2_y, color='black')\n",
    "\n",
    "# all locations of players inide bombsite\n",
    "plt.scatter(test_bombsite.bombsite_xyz['Position_X'],\n",
    "            test_bombsite.bombsite_xyz['Position_Y'], color='blue')\n",
    "\n",
    "# all location of players shooting inside bombsite\n",
    "plt.scatter(test_bombsite.bomb_frames['Position_X'],\n",
    "            test_bombsite.bomb_frames['Position_Y'], color='red')"
   ]
  },
  {
   "cell_type": "code",
   "execution_count": 7,
   "metadata": {},
   "outputs": [],
   "source": [
    "# setting old to true means we look at shooting frames that are within the black bounding box around the bombzone\n",
    "# comparison between plots, looks like IsInBombZone misses a lot of frames that are actually inside the bombzone\n",
    "test_bombsite.find_bombsite_frames(old=False)"
   ]
  },
  {
   "cell_type": "code",
   "execution_count": 8,
   "metadata": {},
   "outputs": [
    {
     "data": {
      "text/plain": [
       "<matplotlib.collections.PathCollection at 0xc9e40c8>"
      ]
     },
     "execution_count": 8,
     "metadata": {},
     "output_type": "execute_result"
    },
    {
     "data": {
      "image/png": "[encoded data removed]",
      "text/plain": [
       "<Figure size 521.734x722.295 with 1 Axes>"
      ]
     },
     "metadata": {
      "needs_background": "light"
     },
     "output_type": "display_data"
    }
   ],
   "source": [
    "plt.figure(figsize=(max(test_bombsite.bombsite_xyz['Position_X'] / 300),\n",
    "                    max(test_bombsite.bombsite_xyz['Position_Y'] / 300)))\n",
    "\n",
    "# approximate box of bombsite\n",
    "plt.plot(site1_x, site1_y, color='orange')\n",
    "plt.plot(site2_x, site2_y, color='orange')\n",
    "\n",
    "# approximate box considered to be shooting around bombsite\n",
    "plt.plot(box1_x, box1_y, color='black')\n",
    "plt.plot(box2_x, box2_y, color='black')\n",
    "\n",
    "# all locations of players inide bombsite\n",
    "plt.scatter(test_bombsite.bombsite_xyz['Position_X'],\n",
    "            test_bombsite.bombsite_xyz['Position_Y'], color='blue')\n",
    "\n",
    "# all location of players shooting inside box around bombsite\n",
    "plt.scatter(test_bombsite.bomb_frames['Position_X'],\n",
    "            test_bombsite.bomb_frames['Position_Y'], color='red')"
   ]
  },
  {
   "cell_type": "code",
   "execution_count": 14,
   "metadata": {},
   "outputs": [
    {
     "data": {
      "image/png": "[encoded data removed]",
      "text/plain": [
       "<Figure size 432x288 with 1 Axes>"
      ]
     },
     "metadata": {
      "needs_background": "light"
     },
     "output_type": "display_data"
    }
   ],
   "source": [
    "# x is the frame number, as expected, bombsite engagements are pretty discrete\n",
    "p = plt.hist(test_bombsite.bombsite_xyz['Frame'], bins = 500)"
   ]
  }
 ],
 "metadata": {
  "kernelspec": {
   "display_name": "Python 3",
   "language": "python",
   "name": "python3"
  },
  "language_info": {
   "codemirror_mode": {
    "name": "ipython",
    "version": 3
   },
   "file_extension": ".py",
   "mimetype": "text/x-python",
   "name": "python",
   "nbconvert_exporter": "python",
   "pygments_lexer": "ipython3",
   "version": "3.7.6"
  }
 },
 "nbformat": 4,
 "nbformat_minor": 4
}
