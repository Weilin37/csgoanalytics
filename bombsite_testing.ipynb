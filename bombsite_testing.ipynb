{
 "cells": [
  {
   "cell_type": "code",
   "execution_count": 10,
   "metadata": {},
   "outputs": [],
   "source": [
    "import numpy as np\n",
    "import pandas as pd\n",
    "import queries\n",
    "import query_filters\n",
    "import player_info\n",
    "import situation_detection\n",
    "import matplotlib.pyplot as plt\n",
    "import psycopg2"
   ]
  },
  {
   "cell_type": "code",
   "execution_count": 2,
   "metadata": {},
   "outputs": [],
   "source": [
    "test_bombsite = situation_detection.bombsite_situation(\n",
    "    filter_obj = query_filters.filter_info(match_id = '1iFV0RYkGIMFnxTpij3oLVmkLYe'))"
   ]
  },
  {
   "cell_type": "code",
   "execution_count": 3,
   "metadata": {},
   "outputs": [
    {
     "data": {
      "text/plain": [
       "bombsite_situation(filter_obj=filter_info(match_id='1iFV0RYkGIMFnxTpij3oLVmkLYe', player=''), map_name='', bombsite_xyz=Empty DataFrame\n",
       "Columns: []\n",
       "Index: [], bombsites=[], bomb_frames=[])"
      ]
     },
     "execution_count": 3,
     "metadata": {},
     "output_type": "execute_result"
    }
   ],
   "source": [
    "test_bombsite"
   ]
  },
  {
   "cell_type": "code",
   "execution_count": 4,
   "metadata": {},
   "outputs": [
    {
     "name": "stdout",
     "output_type": "stream",
     "text": [
      "populate_bombsite_xyz\n",
      "\n",
      "                    SELECT *\n",
      "                    FROM public.\"resultPlayer\"\n",
      "                    WHERE\n",
      "                        \"IsInBombZone\" = true\n",
      "                        AND \"matchID\" = '1iFV0RYkGIMFnxTpij3oLVmkLYe'\n",
      "find_bombsite_frames\n",
      "\n",
      "                    SELECT\n",
      "                        public.\"resultPlayer\".\"Frame\" AS \"Frame\",\n",
      "                        public.\"resultPlayer\".\"RoundNumber\" AS \"RoundNumber\",\n",
      "                        public.\"resultPlayer\".\"CurrentTime\" AS \"CurrentTime\",\n",
      "                        public.\"resultPlayer\".\"Position_X\" AS \"Position_X\",\n",
      "                        public.\"resultPlayer\".\"Position_Y\" AS \"Position_Y\",\n",
      "                        public.\"resultPlayer\".\"Position_Z\" AS \"Position_Z\",\n",
      "                        public.\"resultShoot\".\"Shooter\" AS \"Shooter\",\n",
      "                        public.\"resultShoot\".\"Weapon\" AS \"Weapon\"\n",
      "                    FROM\n",
      "                        public.\"resultPlayer\" INNER JOIN public.\"resultShoot\"\n",
      "                        ON ((public.\"resultPlayer\".\"Frame\" = public.\"resultShoot\".\"Frame\") AND\n",
      "                            (public.\"resultPlayer\".\"Name\" = public.\"resultShoot\".\"Shooter\") AND\n",
      "                            (public.\"resultPlayer\".\"matchID\" = public.\"resultShoot\".\"matchID\"))\n",
      "                    WHERE\n",
      "                        public.\"resultShoot\".\"Weapon\" != '405' AND\n",
      "\n",
      "                        (((public.\"resultPlayer\".\"Position_X\" BETWEEN 1721.0057373046875 AND 2273.89013671875) AND\n",
      "                          (public.\"resultPlayer\".\"Position_Y\" BETWEEN 44.21669006347656 AND 801.96875))\n",
      "                          OR\n",
      "                         ((public.\"resultPlayer\".\"Position_X\" BETWEEN 39.14360046386719 AND 707.3988647460938) AND\n",
      "                          (public.\"resultPlayer\".\"Position_Y\" BETWEEN 2428.31884765625 AND 3109.5634765625)))\n",
      "                        \n",
      "                        AND public.\"resultPlayer\".\"matchID\" = '1iFV0RYkGIMFnxTpij3oLVmkLYe'\n",
      "\n",
      "                    ORDER BY \"Frame\"\n",
      "                    \n"
     ]
    }
   ],
   "source": [
    "test_bombsite.find_bombsite_frames()"
   ]
  },
  {
   "cell_type": "code",
   "execution_count": 14,
   "metadata": {},
   "outputs": [
    {
     "ename": "KeyError",
     "evalue": "'event_id'",
     "output_type": "error",
     "traceback": [
      "\u001b[0;31m---------------------------------------------------------------------------\u001b[0m",
      "\u001b[0;31mKeyError\u001b[0m                                  Traceback (most recent call last)",
      "\u001b[0;32m<ipython-input-14-1c88c1513934>\u001b[0m in \u001b[0;36m<module>\u001b[0;34m\u001b[0m\n\u001b[1;32m     19\u001b[0m \u001b[0;31m# Group the dataframes by event id and get the first row (the starting frame of the event)\u001b[0m\u001b[0;34m\u001b[0m\u001b[0;34m\u001b[0m\u001b[0;34m\u001b[0m\u001b[0m\n\u001b[1;32m     20\u001b[0m \u001b[0;32mfor\u001b[0m \u001b[0mgrp\u001b[0m \u001b[0;32min\u001b[0m \u001b[0md\u001b[0m\u001b[0;34m:\u001b[0m\u001b[0;34m\u001b[0m\u001b[0;34m\u001b[0m\u001b[0m\n\u001b[0;32m---> 21\u001b[0;31m     \u001b[0mgroup\u001b[0m \u001b[0;34m=\u001b[0m \u001b[0md\u001b[0m\u001b[0;34m[\u001b[0m\u001b[0mgrp\u001b[0m\u001b[0;34m]\u001b[0m\u001b[0;34m.\u001b[0m\u001b[0mgroupby\u001b[0m\u001b[0;34m(\u001b[0m\u001b[0;34m'event_id'\u001b[0m\u001b[0;34m)\u001b[0m\u001b[0;34m\u001b[0m\u001b[0;34m\u001b[0m\u001b[0m\n\u001b[0m\u001b[1;32m     22\u001b[0m     \u001b[0mevents\u001b[0m \u001b[0;34m=\u001b[0m \u001b[0mevents\u001b[0m\u001b[0;34m.\u001b[0m\u001b[0mappend\u001b[0m\u001b[0;34m(\u001b[0m\u001b[0mgroup\u001b[0m\u001b[0;34m.\u001b[0m\u001b[0mfirst\u001b[0m\u001b[0;34m(\u001b[0m\u001b[0;34m)\u001b[0m\u001b[0;34m)\u001b[0m\u001b[0;34m\u001b[0m\u001b[0;34m\u001b[0m\u001b[0m\n\u001b[1;32m     23\u001b[0m \u001b[0;34m\u001b[0m\u001b[0m\n",
      "\u001b[0;32m~/Library/Python/3.8/lib/python/site-packages/pandas/core/frame.py\u001b[0m in \u001b[0;36mgroupby\u001b[0;34m(self, by, axis, level, as_index, sort, group_keys, squeeze, observed, dropna)\u001b[0m\n\u001b[1;32m   6502\u001b[0m         \u001b[0maxis\u001b[0m \u001b[0;34m=\u001b[0m \u001b[0mself\u001b[0m\u001b[0;34m.\u001b[0m\u001b[0m_get_axis_number\u001b[0m\u001b[0;34m(\u001b[0m\u001b[0maxis\u001b[0m\u001b[0;34m)\u001b[0m\u001b[0;34m\u001b[0m\u001b[0;34m\u001b[0m\u001b[0m\n\u001b[1;32m   6503\u001b[0m \u001b[0;34m\u001b[0m\u001b[0m\n\u001b[0;32m-> 6504\u001b[0;31m         return DataFrameGroupBy(\n\u001b[0m\u001b[1;32m   6505\u001b[0m             \u001b[0mobj\u001b[0m\u001b[0;34m=\u001b[0m\u001b[0mself\u001b[0m\u001b[0;34m,\u001b[0m\u001b[0;34m\u001b[0m\u001b[0;34m\u001b[0m\u001b[0m\n\u001b[1;32m   6506\u001b[0m             \u001b[0mkeys\u001b[0m\u001b[0;34m=\u001b[0m\u001b[0mby\u001b[0m\u001b[0;34m,\u001b[0m\u001b[0;34m\u001b[0m\u001b[0;34m\u001b[0m\u001b[0m\n",
      "\u001b[0;32m~/Library/Python/3.8/lib/python/site-packages/pandas/core/groupby/groupby.py\u001b[0m in \u001b[0;36m__init__\u001b[0;34m(self, obj, keys, axis, level, grouper, exclusions, selection, as_index, sort, group_keys, squeeze, observed, mutated, dropna)\u001b[0m\n\u001b[1;32m    523\u001b[0m             \u001b[0;32mfrom\u001b[0m \u001b[0mpandas\u001b[0m\u001b[0;34m.\u001b[0m\u001b[0mcore\u001b[0m\u001b[0;34m.\u001b[0m\u001b[0mgroupby\u001b[0m\u001b[0;34m.\u001b[0m\u001b[0mgrouper\u001b[0m \u001b[0;32mimport\u001b[0m \u001b[0mget_grouper\u001b[0m\u001b[0;34m\u001b[0m\u001b[0;34m\u001b[0m\u001b[0m\n\u001b[1;32m    524\u001b[0m \u001b[0;34m\u001b[0m\u001b[0m\n\u001b[0;32m--> 525\u001b[0;31m             grouper, exclusions, obj = get_grouper(\n\u001b[0m\u001b[1;32m    526\u001b[0m                 \u001b[0mobj\u001b[0m\u001b[0;34m,\u001b[0m\u001b[0;34m\u001b[0m\u001b[0;34m\u001b[0m\u001b[0m\n\u001b[1;32m    527\u001b[0m                 \u001b[0mkeys\u001b[0m\u001b[0;34m,\u001b[0m\u001b[0;34m\u001b[0m\u001b[0;34m\u001b[0m\u001b[0m\n",
      "\u001b[0;32m~/Library/Python/3.8/lib/python/site-packages/pandas/core/groupby/grouper.py\u001b[0m in \u001b[0;36mget_grouper\u001b[0;34m(obj, key, axis, level, sort, observed, mutated, validate, dropna)\u001b[0m\n\u001b[1;32m    775\u001b[0m                 \u001b[0min_axis\u001b[0m\u001b[0;34m,\u001b[0m \u001b[0mname\u001b[0m\u001b[0;34m,\u001b[0m \u001b[0mlevel\u001b[0m\u001b[0;34m,\u001b[0m \u001b[0mgpr\u001b[0m \u001b[0;34m=\u001b[0m \u001b[0;32mFalse\u001b[0m\u001b[0;34m,\u001b[0m \u001b[0;32mNone\u001b[0m\u001b[0;34m,\u001b[0m \u001b[0mgpr\u001b[0m\u001b[0;34m,\u001b[0m \u001b[0;32mNone\u001b[0m\u001b[0;34m\u001b[0m\u001b[0;34m\u001b[0m\u001b[0m\n\u001b[1;32m    776\u001b[0m             \u001b[0;32melse\u001b[0m\u001b[0;34m:\u001b[0m\u001b[0;34m\u001b[0m\u001b[0;34m\u001b[0m\u001b[0m\n\u001b[0;32m--> 777\u001b[0;31m                 \u001b[0;32mraise\u001b[0m \u001b[0mKeyError\u001b[0m\u001b[0;34m(\u001b[0m\u001b[0mgpr\u001b[0m\u001b[0;34m)\u001b[0m\u001b[0;34m\u001b[0m\u001b[0;34m\u001b[0m\u001b[0m\n\u001b[0m\u001b[1;32m    778\u001b[0m         \u001b[0;32melif\u001b[0m \u001b[0misinstance\u001b[0m\u001b[0;34m(\u001b[0m\u001b[0mgpr\u001b[0m\u001b[0;34m,\u001b[0m \u001b[0mGrouper\u001b[0m\u001b[0;34m)\u001b[0m \u001b[0;32mand\u001b[0m \u001b[0mgpr\u001b[0m\u001b[0;34m.\u001b[0m\u001b[0mkey\u001b[0m \u001b[0;32mis\u001b[0m \u001b[0;32mnot\u001b[0m \u001b[0;32mNone\u001b[0m\u001b[0;34m:\u001b[0m\u001b[0;34m\u001b[0m\u001b[0;34m\u001b[0m\u001b[0m\n\u001b[1;32m    779\u001b[0m             \u001b[0;31m# Add key to exclusions\u001b[0m\u001b[0;34m\u001b[0m\u001b[0;34m\u001b[0m\u001b[0;34m\u001b[0m\u001b[0m\n",
      "\u001b[0;31mKeyError\u001b[0m: 'event_id'"
     ]
    }
   ],
   "source": [
    "### Grab all the events and make a list of event dataframes\n",
    "\n",
    "# copy bomb frames\n",
    "tt = test_bombsite.bomb_frames\n",
    "\n",
    "# group by the round number\n",
    "tt = tt.groupby(['RoundNumber'])\n",
    "# Empty dictionary to store the grouped dataframes separately\n",
    "d = {}\n",
    "\n",
    "# Loop through each group\n",
    "for i,grp in tt:\n",
    "    # Have a threshold of 1280 frames (10 seconds assuming 128 tick rate), and give it an id to separate out the separate events\n",
    "    grp['event_id']=(~grp['Frame'].diff().div(1280, fill_value=0).lt(2)).cumsum()\n",
    "    d.update(dict([('df_' + str(i),grp)]))\n",
    "\n",
    "# copy the empty dataframe into \"events\"\n",
    "events = d['df_2'][0:0]\n",
    "# Group the dataframes by event id and get the first row (the starting frame of the event)\n",
    "for grp in d:\n",
    "    group = d[grp].groupby('event_id')\n",
    "    events = events.append(group.first())\n",
    "\n",
    "# delete the event_id column we don't need it anymore and do some cleanup\n",
    "del events['event_id']\n",
    "events.reset_index(drop=True, inplace=True)\n",
    "\n",
    "# Get 5 seconds before and store in column\n",
    "events['Start_Event_Frame'] = events['Frame']-(128*5)\n",
    "\n",
    "# Create DB connection\n",
    "connection = psycopg2.connect(user = \"postgres\",\n",
    "                                  password = \"goodgame\",\n",
    "                                  host = \"demos.cdeosts5l1qu.us-east-2.rds.amazonaws.com\",\n",
    "                                  port = \"5432\",\n",
    "                                  database = \"postgres\")\n",
    "\n",
    "# Prepare empty array to contain our event dataframes\n",
    "list_event_dataframes = []\n",
    "# loop through and get the start and end frames, and then make a query to grab the data\n",
    "for index, row in events.iterrows():\n",
    "    # Start and end frame\n",
    "    start_frame = row['Start_Event_Frame']\n",
    "    end_frame = row['Frame']\n",
    "    # Make the query\n",
    "    query = 'SELECT * FROM public.\"resultPlayer\" WHERE public.\"resultPlayer\".\"Frame\" BETWEEN '+str(start_frame)+' AND '+str(end_frame)\n",
    "    # Execute the query\n",
    "    result = pd.read_sql_query(query, connection)\n",
    "    # Append results\n",
    "    list_event_dataframes.append(result)\n",
    "    \n",
    "list_event_dataframes"
   ]
  },
  {
   "cell_type": "code",
   "execution_count": null,
   "metadata": {},
   "outputs": [],
   "source": []
  },
  {
   "cell_type": "code",
   "execution_count": 5,
   "metadata": {},
   "outputs": [],
   "source": [
    "site1_x = (test_bombsite.bombsites[0][0][0],\n",
    "           test_bombsite.bombsites[0][0][0],\n",
    "           test_bombsite.bombsites[0][0][1],\n",
    "           test_bombsite.bombsites[0][0][1],\n",
    "           test_bombsite.bombsites[0][0][0])\n",
    "\n",
    "site1_y = (test_bombsite.bombsites[0][1][0],\n",
    "           test_bombsite.bombsites[0][1][1],\n",
    "           test_bombsite.bombsites[0][1][1],\n",
    "           test_bombsite.bombsites[0][1][0],\n",
    "           test_bombsite.bombsites[0][1][0])\n",
    "\n",
    "site2_x = (test_bombsite.bombsites[1][0][0],\n",
    "           test_bombsite.bombsites[1][0][0],\n",
    "           test_bombsite.bombsites[1][0][1],\n",
    "           test_bombsite.bombsites[1][0][1],\n",
    "           test_bombsite.bombsites[1][0][0])\n",
    "\n",
    "site2_y = (test_bombsite.bombsites[1][1][0],\n",
    "           test_bombsite.bombsites[1][1][1],\n",
    "           test_bombsite.bombsites[1][1][1],\n",
    "           test_bombsite.bombsites[1][1][0],\n",
    "           test_bombsite.bombsites[1][1][0])\n",
    "\n",
    "frame_width = 100\n",
    "\n",
    "site1_min_X = test_bombsite.bombsites[0][0][0] - frame_width\n",
    "site1_max_X = test_bombsite.bombsites[0][0][1] + frame_width\n",
    "site1_min_Y = test_bombsite.bombsites[0][1][0] - frame_width\n",
    "site1_max_Y = test_bombsite.bombsites[0][1][1] + frame_width\n",
    "\n",
    "site2_min_X = test_bombsite.bombsites[1][0][0] - frame_width\n",
    "site2_max_X = test_bombsite.bombsites[1][0][1] + frame_width\n",
    "site2_min_Y = test_bombsite.bombsites[1][1][0] - frame_width\n",
    "site2_max_Y = test_bombsite.bombsites[1][1][1] + frame_width\n",
    "\n",
    "box1_x = (site1_min_X, site1_min_X, site1_max_X, site1_max_X, site1_min_X)\n",
    "box1_y = (site1_min_Y, site1_max_Y, site1_max_Y, site1_min_Y, site1_min_Y)\n",
    "box2_x = (site2_min_X, site2_min_X, site2_max_X, site2_max_X, site2_min_X)\n",
    "box2_y = (site2_min_Y, site2_max_Y, site2_max_Y, site2_min_Y, site2_min_Y)"
   ]
  },
  {
   "cell_type": "code",
   "execution_count": 6,
   "metadata": {},
   "outputs": [
    {
     "data": {
      "text/plain": [
       "<matplotlib.collections.PathCollection at 0xb10a748>"
      ]
     },
     "execution_count": 6,
     "metadata": {},
     "output_type": "execute_result"
    },
    {
     "data": {
      "image/png": "[encoded data removed]",
      "text/plain": [
       "<Figure size 521.734x722.295 with 1 Axes>"
      ]
     },
     "metadata": {
      "needs_background": "light"
     },
     "output_type": "display_data"
    }
   ],
   "source": [
    "plt.figure(figsize=(max(test_bombsite.bombsite_xyz['Position_X'] / 300),\n",
    "                    max(test_bombsite.bombsite_xyz['Position_Y'] / 300)))\n",
    "\n",
    "# approximate box of bombsite\n",
    "plt.plot(site1_x, site1_y, color='orange')\n",
    "plt.plot(site2_x, site2_y, color='orange')\n",
    "\n",
    "# approximate box considered to be shooting around bombsite\n",
    "plt.plot(box1_x, box1_y, color='black')\n",
    "plt.plot(box2_x, box2_y, color='black')\n",
    "\n",
    "# all locations of players inide bombsite\n",
    "plt.scatter(test_bombsite.bombsite_xyz['Position_X'],\n",
    "            test_bombsite.bombsite_xyz['Position_Y'], color='blue')\n",
    "\n",
    "# all location of players shooting inside box around bombsite\n",
    "plt.scatter(test_bombsite.bomb_frames['Position_X'],\n",
    "            test_bombsite.bomb_frames['Position_Y'], color='red')"
   ]
  },
  {
   "cell_type": "code",
   "execution_count": 13,
   "metadata": {},
   "outputs": [
    {
     "data": {
      "image/png": "[encoded data removed]",
      "text/plain": [
       "<Figure size 432x288 with 1 Axes>"
      ]
     },
     "metadata": {
      "needs_background": "light"
     },
     "output_type": "display_data"
    }
   ],
   "source": [
    "# x is the frame number, as expected, bombsite engagements are pretty discrete\n",
    "p = plt.hist(test_bombsite.bombsite_xyz['Frame'], bins = 500)"
   ]
  },
  {
   "cell_type": "code",
   "execution_count": 16,
   "metadata": {},
   "outputs": [],
   "source": [
    "tt = test_bombsite.bombsite_xyz[test_bombsite.bombsite_xyz['RoundNumber']==2]"
   ]
  },
  {
   "cell_type": "code",
   "execution_count": 22,
   "metadata": {},
   "outputs": [
    {
     "data": {
      "image/png": "[encoded data removed]",
      "text/plain": [
       "<Figure size 432x288 with 1 Axes>"
      ]
     },
     "metadata": {
      "needs_background": "light"
     },
     "output_type": "display_data"
    }
   ],
   "source": [
    "p = plt.hist(tt['Frame'], bins = 2500)"
   ]
  },
  {
   "cell_type": "code",
   "execution_count": null,
   "metadata": {},
   "outputs": [],
   "source": []
  }
 ],
 "metadata": {
  "kernelspec": {
   "display_name": "Python 3",
   "language": "python",
   "name": "python3"
  },
  "language_info": {
   "codemirror_mode": {
    "name": "ipython",
    "version": 3
   },
   "file_extension": ".py",
   "mimetype": "text/x-python",
   "name": "python",
   "nbconvert_exporter": "python",
   "pygments_lexer": "ipython3",
   "version": "3.8.5"
  }
 },
 "nbformat": 4,
 "nbformat_minor": 4
}
