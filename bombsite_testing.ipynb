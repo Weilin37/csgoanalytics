{
 "cells": [
  {
   "cell_type": "code",
   "execution_count": 1,
   "metadata": {},
   "outputs": [],
   "source": [
    "import numpy as np\n",
    "import queries\n",
    "import query_filters\n",
    "import player_info\n",
    "import situation_detection\n",
    "import matplotlib.pyplot as plt"
   ]
  },
  {
   "cell_type": "code",
   "execution_count": 2,
   "metadata": {},
   "outputs": [],
   "source": [
    "test_bombsite = situation_detection.bombsite_situation(\n",
    "    filter_obj = query_filters.filter_info(match_id = '1iFV0RYkGIMFnxTpij3oLVmkLYe'))"
   ]
  },
  {
   "cell_type": "code",
   "execution_count": 3,
   "metadata": {},
   "outputs": [
    {
     "data": {
      "text/plain": [
       "filter_info(match_id='1iFV0RYkGIMFnxTpij3oLVmkLYe', player='')"
      ]
     },
     "execution_count": 3,
     "metadata": {},
     "output_type": "execute_result"
    }
   ],
   "source": [
    "test_bombsite.filter_obj"
   ]
  },
  {
   "cell_type": "code",
   "execution_count": 4,
   "metadata": {
    "scrolled": false
   },
   "outputs": [
    {
     "name": "stdout",
     "output_type": "stream",
     "text": [
      "populate_bombsite_xyz\n",
      "\n",
      "                    SELECT *\n",
      "                    FROM public.\"resultPlayer\"\n",
      "                    WHERE\n",
      "                        \"IsInBombZone\" = true\n",
      "                        AND \"matchID\" = '1iFV0RYkGIMFnxTpij3oLVmkLYe'\n",
      "find_bombsite_frames\n",
      "\n",
      "                    SELECT\n",
      "                        public.\"resultPlayer\".\"Frame\" AS \"Frame\",\n",
      "                        public.\"resultPlayer\".\"RoundNumber\" AS \"RoundNumber\",\n",
      "                        public.\"resultPlayer\".\"CurrentTime\" AS \"CurrentTime\",\n",
      "                        public.\"resultPlayer\".\"Position_X\" AS \"Position_X\",\n",
      "                        public.\"resultPlayer\".\"Position_Y\" AS \"Position_Y\",\n",
      "                        public.\"resultPlayer\".\"Position_Z\" AS \"Position_Z\",\n",
      "                        public.\"resultShoot\".\"Shooter\" AS \"Shooter\",\n",
      "                        public.\"resultShoot\".\"Weapon\" AS \"Weapon\"\n",
      "                    FROM\n",
      "                        public.\"resultPlayer\" INNER JOIN public.\"resultShoot\"\n",
      "                        ON ((public.\"resultPlayer\".\"Frame\" = public.\"resultShoot\".\"Frame\") AND\n",
      "                            (public.\"resultPlayer\".\"Name\" = public.\"resultShoot\".\"Shooter\") AND\n",
      "                            (public.\"resultPlayer\".\"matchID\" = public.\"resultShoot\".\"matchID\"))\n",
      "                    WHERE\n",
      "                        public.\"resultShoot\".\"Weapon\" != '405' AND\n",
      "\n",
      "                        (((public.\"resultPlayer\".\"Position_X\" BETWEEN 1721.0057373046875 AND 2273.89013671875) AND\n",
      "                          (public.\"resultPlayer\".\"Position_Y\" BETWEEN 44.21669006347656 AND 801.96875))\n",
      "                          OR\n",
      "                         ((public.\"resultPlayer\".\"Position_X\" BETWEEN 39.14360046386719 AND 707.3988647460938) AND\n",
      "                          (public.\"resultPlayer\".\"Position_Y\" BETWEEN 2428.31884765625 AND 3109.5634765625)))\n",
      "                        \n",
      "                        AND public.\"resultPlayer\".\"matchID\" = '1iFV0RYkGIMFnxTpij3oLVmkLYe'\n",
      "\n",
      "                    ORDER BY \"Frame\"\n",
      "                    \n"
     ]
    }
   ],
   "source": [
    "test_bombsite.find_bombsite_frames()"
   ]
  },
  {
   "cell_type": "code",
   "execution_count": 5,
   "metadata": {},
   "outputs": [],
   "source": [
    "site1_x = (test_bombsite.bombsites[0][0][0],\n",
    "           test_bombsite.bombsites[0][0][0],\n",
    "           test_bombsite.bombsites[0][0][1],\n",
    "           test_bombsite.bombsites[0][0][1],\n",
    "           test_bombsite.bombsites[0][0][0])\n",
    "\n",
    "site1_y = (test_bombsite.bombsites[0][1][0],\n",
    "           test_bombsite.bombsites[0][1][1],\n",
    "           test_bombsite.bombsites[0][1][1],\n",
    "           test_bombsite.bombsites[0][1][0],\n",
    "           test_bombsite.bombsites[0][1][0])\n",
    "\n",
    "site2_x = (test_bombsite.bombsites[1][0][0],\n",
    "           test_bombsite.bombsites[1][0][0],\n",
    "           test_bombsite.bombsites[1][0][1],\n",
    "           test_bombsite.bombsites[1][0][1],\n",
    "           test_bombsite.bombsites[1][0][0])\n",
    "\n",
    "site2_y = (test_bombsite.bombsites[1][1][0],\n",
    "           test_bombsite.bombsites[1][1][1],\n",
    "           test_bombsite.bombsites[1][1][1],\n",
    "           test_bombsite.bombsites[1][1][0],\n",
    "           test_bombsite.bombsites[1][1][0])\n",
    "\n",
    "frame_width = 100\n",
    "\n",
    "site1_min_X = test_bombsite.bombsites[0][0][0] - frame_width\n",
    "site1_max_X = test_bombsite.bombsites[0][0][1] + frame_width\n",
    "site1_min_Y = test_bombsite.bombsites[0][1][0] - frame_width\n",
    "site1_max_Y = test_bombsite.bombsites[0][1][1] + frame_width\n",
    "\n",
    "site2_min_X = test_bombsite.bombsites[1][0][0] - frame_width\n",
    "site2_max_X = test_bombsite.bombsites[1][0][1] + frame_width\n",
    "site2_min_Y = test_bombsite.bombsites[1][1][0] - frame_width\n",
    "site2_max_Y = test_bombsite.bombsites[1][1][1] + frame_width\n",
    "\n",
    "box1_x = (site1_min_X, site1_min_X, site1_max_X, site1_max_X, site1_min_X)\n",
    "box1_y = (site1_min_Y, site1_max_Y, site1_max_Y, site1_min_Y, site1_min_Y)\n",
    "box2_x = (site2_min_X, site2_min_X, site2_max_X, site2_max_X, site2_min_X)\n",
    "box2_y = (site2_min_Y, site2_max_Y, site2_max_Y, site2_min_Y, site2_min_Y)"
   ]
  },
  {
   "cell_type": "code",
   "execution_count": 6,
   "metadata": {},
   "outputs": [
    {
     "data": {
      "text/plain": [
       "<matplotlib.collections.PathCollection at 0xb10a748>"
      ]
     },
     "execution_count": 6,
     "metadata": {},
     "output_type": "execute_result"
    },
    {
     "data": {
      "image/png": "[encoded data removed]",
      "text/plain": [
       "<Figure size 521.734x722.295 with 1 Axes>"
      ]
     },
     "metadata": {
      "needs_background": "light"
     },
     "output_type": "display_data"
    }
   ],
   "source": [
    "plt.figure(figsize=(max(test_bombsite.bombsite_xyz['Position_X'] / 300),\n",
    "                    max(test_bombsite.bombsite_xyz['Position_Y'] / 300)))\n",
    "\n",
    "# approximate box of bombsite\n",
    "plt.plot(site1_x, site1_y, color='orange')\n",
    "plt.plot(site2_x, site2_y, color='orange')\n",
    "\n",
    "# approximate box considered to be shooting around bombsite\n",
    "plt.plot(box1_x, box1_y, color='black')\n",
    "plt.plot(box2_x, box2_y, color='black')\n",
    "\n",
    "# all locations of players inide bombsite\n",
    "plt.scatter(test_bombsite.bombsite_xyz['Position_X'],\n",
    "            test_bombsite.bombsite_xyz['Position_Y'], color='blue')\n",
    "\n",
    "# all location of players shooting inside box around bombsite\n",
    "plt.scatter(test_bombsite.bomb_frames['Position_X'],\n",
    "            test_bombsite.bomb_frames['Position_Y'], color='red')"
   ]
  },
  {
   "cell_type": "code",
   "execution_count": 7,
   "metadata": {},
   "outputs": [
    {
     "data": {
      "image/png": "[encoded data removed]",
      "text/plain": [
       "<Figure size 432x288 with 1 Axes>"
      ]
     },
     "metadata": {
      "needs_background": "light"
     },
     "output_type": "display_data"
    }
   ],
   "source": [
    "# x is the frame number, as expected, bombsite engagements are pretty discrete\n",
    "p = plt.hist(test_bombsite.bombsite_xyz['Frame'], bins = 500)"
   ]
  }
 ],
 "metadata": {
  "kernelspec": {
   "display_name": "Python 3",
   "language": "python",
   "name": "python3"
  },
  "language_info": {
   "codemirror_mode": {
    "name": "ipython",
    "version": 3
   },
   "file_extension": ".py",
   "mimetype": "text/x-python",
   "name": "python",
   "nbconvert_exporter": "python",
   "pygments_lexer": "ipython3",
   "version": "3.7.6"
  }
 },
 "nbformat": 4,
 "nbformat_minor": 4
}
